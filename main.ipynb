{
 "cells": [
  {
   "cell_type": "code",
   "execution_count": 5,
   "metadata": {
    "collapsed": true
   },
   "outputs": [],
   "source": [
    "from sqlalchemy import create_engine\n",
    "from sshtunnel import SSHTunnelForwarder"
   ]
  },
  {
   "cell_type": "code",
   "execution_count": 6,
   "outputs": [],
   "source": [
    "creds = {\n",
    "    'DB_HOST': 'liradb.compute.dtu.dk',\n",
    "    'DB_PORT': 5435,\n",
    "    'DB_USER': 'guest',\n",
    "    'DB_PASS': 'V2GjxQVn',\n",
    "    'DB_NAME': 'postgres',\n",
    "    'SSH_HOST': 'thinlinc.compute.dtu.dk',\n",
    "    'SSH_USER': 's174420',\n",
    "    'SSH_PASS': open('creds.json').readline()\n",
    "}"
   ],
   "metadata": {
    "collapsed": false,
    "pycharm": {
     "name": "#%%\n"
    }
   }
  },
  {
   "cell_type": "code",
   "execution_count": 7,
   "outputs": [
    {
     "name": "stdout",
     "output_type": "stream",
     "text": [
      "Connecting to the SSH Tunnel...\n"
     ]
    }
   ],
   "source": [
    "print('Connecting to the SSH Tunnel...')\n",
    "\n",
    "ssh_tunnel = SSHTunnelForwarder(\n",
    "    ssh_address_or_host=(creds['SSH_HOST'], 22),\n",
    "    ssh_username=creds[\"SSH_USER\"],\n",
    "    ssh_password=creds['SSH_PASS'],\n",
    "    remote_bind_address=(creds[\"DB_HOST\"], creds['DB_PORT'])\n",
    ")\n",
    "\n",
    "ssh_tunnel.start()\n",
    "print('Success')"
   ],
   "metadata": {
    "collapsed": false,
    "pycharm": {
     "name": "#%%\n"
    }
   }
  },
  {
   "cell_type": "code",
   "execution_count": 8,
   "outputs": [
    {
     "name": "stdout",
     "output_type": "stream",
     "text": [
      "Connecting to the PostgreSQL Database...\n"
     ]
    },
    {
     "data": {
      "text/plain": "<sqlalchemy.engine.base.Connection at 0x200d231baf0>"
     },
     "execution_count": 8,
     "metadata": {},
     "output_type": "execute_result"
    }
   ],
   "source": [
    "print('Connecting to the PostgreSQL Database...')\n",
    "\n",
    "engine = create_engine('postgresql://{user}:{password}@{host}:{port}/{db}'.format(\n",
    "    host='localhost',\n",
    "    port=ssh_tunnel.local_bind_port,\n",
    "    user=creds[\"DB_USER\"],\n",
    "    password=creds[\"DB_PASS\"],\n",
    "    db=creds[\"DB_NAME\"]\n",
    "))\n",
    "\n",
    "engine.connect()"
   ],
   "metadata": {
    "collapsed": false,
    "pycharm": {
     "name": "#%%\n"
    }
   }
  },
  {
   "cell_type": "code",
   "execution_count": 11,
   "outputs": [
    {
     "name": "stdout",
     "output_type": "stream",
     "text": [
      "(UUID('8051a60b-84f8-4c7e-9e6a-cd57bcf52ebe'), datetime.datetime(2020, 4, 30, 9, 14, 6, 484286, tzinfo=datetime.timezone.utc), datetime.datetime(1, 1, 1, 0, 0, tzinfo=datetime.timezone.utc), UUID('e9445538-3381-414c-a302-2b33b70d72b1'))\n",
      "(UUID('9491599b-0e08-438c-a7cb-39b10f34b2de'), datetime.datetime(2020, 4, 30, 10, 23, 43, 280443, tzinfo=datetime.timezone.utc), datetime.datetime(1, 1, 1, 0, 0, tzinfo=datetime.timezone.utc), UUID('e9445538-3381-414c-a302-2b33b70d72b1'))\n",
      "(UUID('6513ab9d-66f0-4701-a2fb-a54dbaf12151'), datetime.datetime(2020, 4, 30, 10, 44, 15, 16908, tzinfo=datetime.timezone.utc), datetime.datetime(1, 1, 1, 0, 0, tzinfo=datetime.timezone.utc), UUID('e9445538-3381-414c-a302-2b33b70d72b1'))\n",
      "(UUID('bded9c90-025e-460a-9c30-b65a29d07b91'), datetime.datetime(2020, 4, 30, 22, 10, 33, 815965, tzinfo=datetime.timezone.utc), datetime.datetime(1, 1, 1, 0, 0, tzinfo=datetime.timezone.utc), UUID('e9445538-3381-414c-a302-2b33b70d72b1'))\n",
      "(UUID('eadc9490-e9de-4219-ba29-03472c74cefd'), datetime.datetime(2020, 5, 4, 15, 36, 17, 25234, tzinfo=datetime.timezone.utc), datetime.datetime(1, 1, 1, 0, 0, tzinfo=datetime.timezone.utc), UUID('e9445538-3381-414c-a302-2b33b70d72b1'))\n",
      "(UUID('28fd50ce-496f-4723-942d-61877eabe1e4'), datetime.datetime(2020, 5, 6, 16, 35, 48, 115170, tzinfo=datetime.timezone.utc), datetime.datetime(1, 1, 1, 0, 0, tzinfo=datetime.timezone.utc), UUID('e9445538-3381-414c-a302-2b33b70d72b1'))\n",
      "(UUID('187c70cc-4eff-4307-8157-ac0fa0102f43'), datetime.datetime(2020, 8, 24, 11, 47, 24, 545230, tzinfo=datetime.timezone.utc), datetime.datetime(1, 1, 1, 0, 0, tzinfo=datetime.timezone.utc), UUID('e9445538-3381-414c-a302-2b33b70d72b1'))\n",
      "(UUID('0cb38d9f-3601-4179-b5ef-403a999c9021'), datetime.datetime(2020, 5, 28, 0, 0, tzinfo=datetime.timezone.utc), datetime.datetime(2020, 5, 28, 0, 0, tzinfo=datetime.timezone.utc), UUID('dae3115a-7bff-434c-8a77-e6672ebc7599'))\n",
      "(UUID('85d44a66-4ecb-4fdc-91be-0a18b2d7ebdb'), datetime.datetime(2020, 10, 5, 22, 13, 15, 315638, tzinfo=datetime.timezone.utc), datetime.datetime(1, 1, 1, 0, 0, tzinfo=datetime.timezone.utc), UUID('e9445538-3381-414c-a302-2b33b70d72b1'))\n",
      "(UUID('ca3cfc39-7b69-48e0-8046-6e9a0bc838aa'), datetime.datetime(2020, 10, 5, 22, 22, 30, 755832, tzinfo=datetime.timezone.utc), datetime.datetime(1, 1, 1, 0, 0, tzinfo=datetime.timezone.utc), UUID('e9445538-3381-414c-a302-2b33b70d72b1'))\n",
      "(UUID('47690661-f343-4591-920c-50dcd59f74e2'), datetime.datetime(2020, 5, 28, 0, 0, tzinfo=datetime.timezone.utc), datetime.datetime(2020, 5, 28, 0, 0, tzinfo=datetime.timezone.utc), UUID('fb64715d-09d1-4fd9-8912-685364c7d446'))\n",
      "(UUID('91247114-1f38-46bb-8f92-5d695b49d597'), datetime.datetime(2021, 4, 28, 10, 32, 45, 65034, tzinfo=datetime.timezone.utc), datetime.datetime(1, 1, 1, 0, 0, tzinfo=datetime.timezone.utc), UUID('e9445538-3381-414c-a302-2b33b70d72b1'))\n"
     ]
    }
   ],
   "source": [
    "with engine.connect() as conn:\n",
    "    res = conn.execute('select * from \"Devices\" limit 100;')\n",
    "\n",
    "    for row in res:\n",
    "        print(row)"
   ],
   "metadata": {
    "collapsed": false,
    "pycharm": {
     "name": "#%%\n"
    }
   }
  },
  {
   "cell_type": "code",
   "execution_count": null,
   "outputs": [],
   "source": [
    "engine.connect()"
   ],
   "metadata": {
    "collapsed": false,
    "pycharm": {
     "name": "#%%\n"
    }
   }
  },
  {
   "cell_type": "code",
   "execution_count": null,
   "outputs": [],
   "source": [
    "engine."
   ],
   "metadata": {
    "collapsed": false,
    "pycharm": {
     "name": "#%%\n"
    }
   }
  }
 ],
 "metadata": {
  "kernelspec": {
   "display_name": "Python 3",
   "language": "python",
   "name": "python3"
  },
  "language_info": {
   "codemirror_mode": {
    "name": "ipython",
    "version": 2
   },
   "file_extension": ".py",
   "mimetype": "text/x-python",
   "name": "python",
   "nbconvert_exporter": "python",
   "pygments_lexer": "ipython2",
   "version": "2.7.6"
  }
 },
 "nbformat": 4,
 "nbformat_minor": 0
}