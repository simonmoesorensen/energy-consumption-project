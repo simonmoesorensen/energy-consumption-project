{
 "cells": [
  {
   "cell_type": "code",
   "execution_count": 42,
   "metadata": {
    "collapsed": true
   },
   "outputs": [
    {
     "data": {
      "text/plain": "True"
     },
     "execution_count": 42,
     "metadata": {},
     "output_type": "execute_result"
    }
   ],
   "source": [
    "import os\n",
    "import dotenv\n",
    "\n",
    "import pandas as pd\n",
    "\n",
    "from connection import get_db_engine\n",
    "\n",
    "dotenv.load_dotenv(dotenv.find_dotenv())"
   ]
  },
  {
   "cell_type": "code",
   "execution_count": 43,
   "outputs": [],
   "source": [
    "liradb_config = {\n",
    "    \"DB_HOST\": 'liradb.compute.dtu.dk',\n",
    "    \"DB_PORT\": 5435,\n",
    "    \"DB_USER\": 'guest',\n",
    "    \"DB_PASS\": 'V2GjxQVn',\n",
    "    'DB_NAME': 'postgres',\n",
    "}\n",
    "liradbdev_config = {\n",
    "    \"DB_HOST\": 'liradbdev.compute.dtu.dk',\n",
    "    \"DB_PORT\": 5432,\n",
    "    \"DB_USER\": 'guest',\n",
    "    \"DB_PASS\": 'AvpF7r8b',\n",
    "    'DB_NAME': 'postgres',\n",
    "}\n",
    "ssh_config = {\n",
    "    'SSH_HOST': os.environ.get(\"SSH_HOST\"),\n",
    "    'SSH_USER': os.environ.get(\"SSH_USER\"),\n",
    "    'SSH_PASS': os.environ.get(\"SSH_PASS\"),\n",
    "}"
   ],
   "metadata": {
    "collapsed": false,
    "pycharm": {
     "name": "#%%\n"
    }
   }
  },
  {
   "cell_type": "code",
   "execution_count": 44,
   "outputs": [
    {
     "name": "stderr",
     "output_type": "stream",
     "text": [
      "2022-02-22 17:40:07,846| ERROR   | Password is required for key /home/silas/.ssh/id_ed25519\n"
     ]
    },
    {
     "name": "stdout",
     "output_type": "stream",
     "text": [
      "Connecting to the SSH Tunnel...\n",
      "Success\n"
     ]
    },
    {
     "ename": "TypeError",
     "evalue": "create_engine() takes 1 positional argument but 2 were given",
     "output_type": "error",
     "traceback": [
      "\u001B[0;31m---------------------------------------------------------------------------\u001B[0m",
      "\u001B[0;31mTypeError\u001B[0m                                 Traceback (most recent call last)",
      "Input \u001B[0;32mIn [44]\u001B[0m, in \u001B[0;36m<module>\u001B[0;34m\u001B[0m\n\u001B[0;32m----> 1\u001B[0m engine \u001B[38;5;241m=\u001B[39m \u001B[43mtunnel_and_connect\u001B[49m\u001B[43m(\u001B[49m\u001B[43mssh_config\u001B[49m\u001B[43m,\u001B[49m\u001B[43m \u001B[49m\u001B[43mliradb_config\u001B[49m\u001B[43m)\u001B[49m\n",
      "File \u001B[0;32m~/Documents/university/energy-consumption-project/connection.py:9\u001B[0m, in \u001B[0;36mtunnel_and_connect\u001B[0;34m(ssh_config, db_config)\u001B[0m\n\u001B[1;32m      7\u001B[0m \u001B[38;5;28;01mdef\u001B[39;00m \u001B[38;5;21mtunnel_and_connect\u001B[39m(ssh_config: Dict, db_config: Dict):\n\u001B[1;32m      8\u001B[0m     ssh_tunnel \u001B[38;5;241m=\u001B[39m create_ssh_tunnel(ssh_config, db_config)\n\u001B[0;32m----> 9\u001B[0m     engine \u001B[38;5;241m=\u001B[39m \u001B[43mcreate_engine\u001B[49m\u001B[43m(\u001B[49m\u001B[43mdb_config\u001B[49m\u001B[43m,\u001B[49m\u001B[43m \u001B[49m\u001B[43mssh_tunnel\u001B[49m\u001B[38;5;241;43m.\u001B[39;49m\u001B[43mlocal_bind_port\u001B[49m\u001B[43m)\u001B[49m\n\u001B[1;32m     10\u001B[0m     \u001B[38;5;28;01mreturn\u001B[39;00m engine\n",
      "\u001B[0;31mTypeError\u001B[0m: create_engine() takes 1 positional argument but 2 were given"
     ]
    }
   ],
   "source": [
    "engine = get_db_engine(ssh_config, liradb_config)"
   ],
   "metadata": {
    "collapsed": false,
    "pycharm": {
     "name": "#%%\n"
    }
   }
  },
  {
   "cell_type": "code",
   "execution_count": 37,
   "outputs": [
    {
     "data": {
      "text/plain": "                               DeviceId                     Created_Date  \\\n0  8051a60b-84f8-4c7e-9e6a-cd57bcf52ebe 2020-04-30 09:14:06.484286+00:00   \n1  9491599b-0e08-438c-a7cb-39b10f34b2de 2020-04-30 10:23:43.280443+00:00   \n2  6513ab9d-66f0-4701-a2fb-a54dbaf12151 2020-04-30 10:44:15.016908+00:00   \n3  bded9c90-025e-460a-9c30-b65a29d07b91 2020-04-30 22:10:33.815965+00:00   \n4  eadc9490-e9de-4219-ba29-03472c74cefd 2020-05-04 15:36:17.025234+00:00   \n5  28fd50ce-496f-4723-942d-61877eabe1e4 2020-05-06 16:35:48.115170+00:00   \n6  187c70cc-4eff-4307-8157-ac0fa0102f43 2020-08-24 11:47:24.545230+00:00   \n7  0cb38d9f-3601-4179-b5ef-403a999c9021        2020-05-28 00:00:00+00:00   \n8  85d44a66-4ecb-4fdc-91be-0a18b2d7ebdb 2020-10-05 22:13:15.315638+00:00   \n9  ca3cfc39-7b69-48e0-8046-6e9a0bc838aa 2020-10-05 22:22:30.755832+00:00   \n\n                Updated_Date                         FK_SourceType  \n0  0001-01-01 00:00:00+00:00  e9445538-3381-414c-a302-2b33b70d72b1  \n1  0001-01-01 00:00:00+00:00  e9445538-3381-414c-a302-2b33b70d72b1  \n2  0001-01-01 00:00:00+00:00  e9445538-3381-414c-a302-2b33b70d72b1  \n3  0001-01-01 00:00:00+00:00  e9445538-3381-414c-a302-2b33b70d72b1  \n4  0001-01-01 00:00:00+00:00  e9445538-3381-414c-a302-2b33b70d72b1  \n5  0001-01-01 00:00:00+00:00  e9445538-3381-414c-a302-2b33b70d72b1  \n6  0001-01-01 00:00:00+00:00  e9445538-3381-414c-a302-2b33b70d72b1  \n7  2020-05-28 00:00:00+00:00  dae3115a-7bff-434c-8a77-e6672ebc7599  \n8  0001-01-01 00:00:00+00:00  e9445538-3381-414c-a302-2b33b70d72b1  \n9  0001-01-01 00:00:00+00:00  e9445538-3381-414c-a302-2b33b70d72b1  ",
      "text/html": "<div>\n<style scoped>\n    .dataframe tbody tr th:only-of-type {\n        vertical-align: middle;\n    }\n\n    .dataframe tbody tr th {\n        vertical-align: top;\n    }\n\n    .dataframe thead th {\n        text-align: right;\n    }\n</style>\n<table border=\"1\" class=\"dataframe\">\n  <thead>\n    <tr style=\"text-align: right;\">\n      <th></th>\n      <th>DeviceId</th>\n      <th>Created_Date</th>\n      <th>Updated_Date</th>\n      <th>FK_SourceType</th>\n    </tr>\n  </thead>\n  <tbody>\n    <tr>\n      <th>0</th>\n      <td>8051a60b-84f8-4c7e-9e6a-cd57bcf52ebe</td>\n      <td>2020-04-30 09:14:06.484286+00:00</td>\n      <td>0001-01-01 00:00:00+00:00</td>\n      <td>e9445538-3381-414c-a302-2b33b70d72b1</td>\n    </tr>\n    <tr>\n      <th>1</th>\n      <td>9491599b-0e08-438c-a7cb-39b10f34b2de</td>\n      <td>2020-04-30 10:23:43.280443+00:00</td>\n      <td>0001-01-01 00:00:00+00:00</td>\n      <td>e9445538-3381-414c-a302-2b33b70d72b1</td>\n    </tr>\n    <tr>\n      <th>2</th>\n      <td>6513ab9d-66f0-4701-a2fb-a54dbaf12151</td>\n      <td>2020-04-30 10:44:15.016908+00:00</td>\n      <td>0001-01-01 00:00:00+00:00</td>\n      <td>e9445538-3381-414c-a302-2b33b70d72b1</td>\n    </tr>\n    <tr>\n      <th>3</th>\n      <td>bded9c90-025e-460a-9c30-b65a29d07b91</td>\n      <td>2020-04-30 22:10:33.815965+00:00</td>\n      <td>0001-01-01 00:00:00+00:00</td>\n      <td>e9445538-3381-414c-a302-2b33b70d72b1</td>\n    </tr>\n    <tr>\n      <th>4</th>\n      <td>eadc9490-e9de-4219-ba29-03472c74cefd</td>\n      <td>2020-05-04 15:36:17.025234+00:00</td>\n      <td>0001-01-01 00:00:00+00:00</td>\n      <td>e9445538-3381-414c-a302-2b33b70d72b1</td>\n    </tr>\n    <tr>\n      <th>5</th>\n      <td>28fd50ce-496f-4723-942d-61877eabe1e4</td>\n      <td>2020-05-06 16:35:48.115170+00:00</td>\n      <td>0001-01-01 00:00:00+00:00</td>\n      <td>e9445538-3381-414c-a302-2b33b70d72b1</td>\n    </tr>\n    <tr>\n      <th>6</th>\n      <td>187c70cc-4eff-4307-8157-ac0fa0102f43</td>\n      <td>2020-08-24 11:47:24.545230+00:00</td>\n      <td>0001-01-01 00:00:00+00:00</td>\n      <td>e9445538-3381-414c-a302-2b33b70d72b1</td>\n    </tr>\n    <tr>\n      <th>7</th>\n      <td>0cb38d9f-3601-4179-b5ef-403a999c9021</td>\n      <td>2020-05-28 00:00:00+00:00</td>\n      <td>2020-05-28 00:00:00+00:00</td>\n      <td>dae3115a-7bff-434c-8a77-e6672ebc7599</td>\n    </tr>\n    <tr>\n      <th>8</th>\n      <td>85d44a66-4ecb-4fdc-91be-0a18b2d7ebdb</td>\n      <td>2020-10-05 22:13:15.315638+00:00</td>\n      <td>0001-01-01 00:00:00+00:00</td>\n      <td>e9445538-3381-414c-a302-2b33b70d72b1</td>\n    </tr>\n    <tr>\n      <th>9</th>\n      <td>ca3cfc39-7b69-48e0-8046-6e9a0bc838aa</td>\n      <td>2020-10-05 22:22:30.755832+00:00</td>\n      <td>0001-01-01 00:00:00+00:00</td>\n      <td>e9445538-3381-414c-a302-2b33b70d72b1</td>\n    </tr>\n  </tbody>\n</table>\n</div>"
     },
     "execution_count": 37,
     "metadata": {},
     "output_type": "execute_result"
    }
   ],
   "source": [
    "query: str = \"\"\"\n",
    "    select *\n",
    "    from \"Devices\"\n",
    "    limit 10;\n",
    "\"\"\"\n",
    "with engine.connect() as conn:\n",
    "    df = pd.read_sql(query, conn)\n",
    "df"
   ],
   "metadata": {
    "collapsed": false,
    "pycharm": {
     "name": "#%%\n"
    }
   }
  }
 ],
 "metadata": {
  "kernelspec": {
   "display_name": "Python 3",
   "language": "python",
   "name": "python3"
  },
  "language_info": {
   "codemirror_mode": {
    "name": "ipython",
    "version": 2
   },
   "file_extension": ".py",
   "mimetype": "text/x-python",
   "name": "python",
   "nbconvert_exporter": "python",
   "pygments_lexer": "ipython2",
   "version": "2.7.6"
  }
 },
 "nbformat": 4,
 "nbformat_minor": 0
}