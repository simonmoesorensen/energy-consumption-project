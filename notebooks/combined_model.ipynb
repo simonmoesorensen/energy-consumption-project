{
 "cells": [
  {
   "cell_type": "code",
   "execution_count": null,
   "outputs": [],
   "source": [
    "import pandas as pd\n",
    "import seaborn as sns\n",
    "import matplotlib.pyplot as plt\n",
    "import matplotlib.dates as mdates\n",
    "\n",
    "from src.features import load_trips, remove_outliers\n",
    "from src.models.PhysicalModel import PhysicalModel\n",
    "from src.models.BehaviourTransformer import BehaviourTransformer\n",
    "\n",
    "\n",
    "rc = {\n",
    "    \"font.sans-serif\": [\"Fira Sans Condensed\", \"Arial\"],\n",
    "    \"lines.linewidth\": 2.5,\n",
    "    \"axes.grid\": True,\n",
    "    \"axes.grid.axis\": \"y\",\n",
    "    \"grid.linewidth\": 1.5,\n",
    "    \"axes.titleweight\": \"bold\",\n",
    "    \"axes.titlelocation\": \"left\",\n",
    "    \"legend.edgecolor\": \"none\",\n",
    "    \"legend.title_fontsize\": 0,\n",
    "    \"xtick.bottom\": True,\n",
    "    \"axes.edgecolor\": \".15\",\n",
    "    \"figure.figsize\": [8.0, 5.0],\n",
    "    \"axes.spines.bottom\": True,\n",
    "    \"axes.spines.left\": False,\n",
    "    \"axes.spines.right\": False,\n",
    "    \"axes.spines.top\": False,\n",
    "}\n",
    "sns.set_theme( \n",
    "    style=\"whitegrid\",\n",
    "    context=\"notebook\",\n",
    "    rc=rc\n",
    ")\n",
    "\n",
    "pd.set_option('display.max_columns', None)"
   ],
   "metadata": {
    "collapsed": false,
    "pycharm": {
     "name": "#%%\n"
    }
   }
  },
  {
   "cell_type": "code",
   "execution_count": null,
   "outputs": [],
   "source": [
    "# temp = load_trips(['M3_VH', 'M3_HH', 'CPH1_HH', 'CPH1_VH', 'CPH6_VH', 'CPH6_HH'], trips='all', sampling='1s')\n",
    "# temp.to_parquet(\"../data/processed/all_trips.parquet\")\n",
    "# del temp"
   ],
   "metadata": {
    "collapsed": false,
    "pycharm": {
     "name": "#%%\n"
    }
   }
  },
  {
   "cell_type": "code",
   "execution_count": null,
   "outputs": [],
   "source": [
    "# df = load_trips(['M3_VH', 'CPH1_HH', 'CPH1_VH'], trips='all', sampling='2s')\n",
    "# df_test = load_trips(['CPH6_VH', 'CPH6_HH'], trips='all', sampling='2s')\n",
    "all_data = pd.read_parquet(\"../data/processed/all_trips.parquet\")\n",
    "df = all_data.query(\"route in ['M3_VH', 'CPH1_HH', 'CPH1_VH']\")\n",
    "df_test = all_data.query(\"route in ['CPH6_VH', 'CPH6_HH']\")\n",
    "\n",
    "outlier_columns = ['acceleration_z',\n",
    "                   'acceleration_y',\n",
    "                   'acceleration_x',\n",
    "                   'steering_position',\n",
    "                   'steering_acceleration',\n",
    "                   'traction_instant_consumption',\n",
    "                   'yaw_rate',\n",
    "                   'velocity']\n",
    "\n",
    "df = remove_outliers(df, outlier_columns)\n",
    "df = df.sort_index()\n",
    "\n",
    "\n",
    "# df_test = remove_outliers(df_test, outlier_columns)\n",
    "# df_test = df_test.sort_index()"
   ],
   "metadata": {
    "collapsed": false,
    "pycharm": {
     "name": "#%%\n"
    }
   }
  },
  {
   "cell_type": "code",
   "execution_count": null,
   "outputs": [],
   "source": [
    "features_road = [\"traffic_lights\", \"road_signs\", \"speed_limit\", \"ped_walks\", \"speed_bumps\", \"bike_lane\"]"
   ],
   "metadata": {
    "collapsed": false,
    "pycharm": {
     "name": "#%%\n"
    }
   }
  },
  {
   "cell_type": "code",
   "execution_count": null,
   "outputs": [],
   "source": [
    "behaviour_transformer = BehaviourTransformer()\n",
    "\n",
    "df = df.merge(behaviour_transformer.adjust_acceleration(df, columns=[\"acceleration_x\", \"acceleration_y\"]), \n",
    "                    left_index=True, right_index=True)\n",
    "\n",
    "df = df.reset_index().drop_duplicates('TS_or_Distance').set_index('TS_or_Distance')\n",
    "\n",
    "behaviour_transformer.fit(df)\n",
    "\n",
    "physical_model = PhysicalModel()\n",
    "physical_model.fit(\"velocity\", \"acceleration_y\")\n",
    "\n",
    "df = df.merge(behaviour_transformer.transform(df), left_index=True, right_index=True)\\\n",
    "             .assign(kW_pred=physical_model.predict(df))\\\n",
    "             .assign(error=lambda x: x.kW_pred - x.traction_instant_consumption)"
   ],
   "metadata": {
    "collapsed": false,
    "pycharm": {
     "name": "#%%\n"
    }
   }
  },
  {
   "cell_type": "code",
   "execution_count": null,
   "outputs": [],
   "source": [
    "df_test = df_test[~df_test.index.duplicated(keep='first')]\n",
    "df_test.loc[:, features_road] = df_test[features_road].fillna(0)\n",
    "df_test = df_test.dropna(how='any', axis=0)\n",
    "\n",
    "df_test = df_test.merge(behaviour_transformer.adjust_acceleration(df_test, columns=[\"acceleration_x\", \"acceleration_y\"]), \n",
    "                    left_index=True, right_index=True)\n",
    "\n",
    "physical_model = PhysicalModel()\n",
    "physical_model.fit(\"velocity\", \"acceleration_y\")\n",
    "\n",
    "df_test = df_test.merge(behaviour_transformer.transform(df_test), left_index=True, right_index=True)\\\n",
    "                            .assign(kW_pred=physical_model.predict(df_test))"
   ],
   "metadata": {
    "collapsed": false,
    "pycharm": {
     "name": "#%%\n"
    }
   }
  },
  {
   "cell_type": "code",
   "execution_count": null,
   "outputs": [],
   "source": [
    "features = ['adjusted_acceleration_x', 'adjusted_acceleration_y', 'yaw_rate', 'velocity'] \\\n",
    "    + ['driver_safety_belt_reminder'] \\\n",
    "    + behaviour_transformer.behavioural_columns \\\n",
    "    + features_road \\\n",
    "    + behaviour_transformer.var_cols\n",
    "target = \"error\""
   ],
   "metadata": {
    "collapsed": false,
    "pycharm": {
     "name": "#%%\n"
    }
   }
  },
  {
   "cell_type": "code",
   "execution_count": null,
   "outputs": [],
   "source": [
    "# from sklearn.model_selection import GridSearchCV\n",
    "# import lightgbm as lgb\n",
    "\n",
    "# def algorithm_pipeline(X_train_data, X_test_data, y_train_data, y_test_data, \n",
    "#                        model, param_grid, cv=10, scoring_fit='neg_mean_squared_error',\n",
    "#                        do_probabilities = False):\n",
    "#     gs = GridSearchCV(\n",
    "#         estimator=model,\n",
    "#         param_grid=param_grid, \n",
    "#         cv=cv, \n",
    "#         n_jobs=-1, \n",
    "#         scoring=scoring_fit,\n",
    "#         verbose=2\n",
    "#     )\n",
    "#     fitted_model = gs.fit(X_train_data, y_train_data)\n",
    "    \n",
    "#     if do_probabilities:\n",
    "#       pred = fitted_model.predict_proba(X_test_data)\n",
    "#     else:\n",
    "#       pred = fitted_model.predict(X_test_data)\n",
    "    \n",
    "#     return fitted_model, pred\n",
    "\n",
    "# model = lgb.LGBMRegressor()\n",
    "# param_grid = {\n",
    "#     'n_estimators': [50, 100, 150],\n",
    "#     'colsample_bytree': [0.7, 0.8, 0.9, 1.],\n",
    "#     'max_depth': [15,20,25],\n",
    "#     'num_leaves': [20, 30, 40, 50, 60],\n",
    "#     # 'reg_alpha': [1.1, 1.2, 1.3],\n",
    "#     # 'reg_lambda': [1.1, 1.2, 1.3],\n",
    "#     # 'min_split_gain': [0.3, 0.4],\n",
    "#     # 'subsample': [0.7, 0.8, 0.9],\n",
    "#     # 'subsample_freq': [20]\n",
    "# }\n",
    "\n",
    "# df_cv = df[features + [target]].dropna(axis=0)\n",
    "# df_test_cv = df_test.assign(error=lambda x: x.kW_pred - x.traction_instant_consumption)[features + [target]].dropna(axis=0)\n",
    "# cv, pred = algorithm_pipeline(df_cv[features].to_numpy(), df_test_cv[features].to_numpy(), df_cv[target].to_numpy(), df_test_cv[target].to_numpy(), model, \n",
    "#                                  param_grid, cv=5)\n",
    "\n",
    "# print(cv.best_score_)\n",
    "# print(cv.best_params_)\n",
    "\n",
    "# model = cv.best_estimator_"
   ],
   "metadata": {
    "collapsed": false,
    "pycharm": {
     "name": "#%%\n"
    }
   }
  },
  {
   "cell_type": "code",
   "execution_count": null,
   "outputs": [],
   "source": [
    "import lightgbm as lgb\n",
    "model = lgb.LGBMRegressor()\n",
    "model.fit(df[features], df[target])"
   ],
   "metadata": {
    "collapsed": false,
    "pycharm": {
     "name": "#%%\n"
    }
   }
  },
  {
   "cell_type": "markdown",
   "source": [
    "# Testing"
   ],
   "metadata": {
    "collapsed": false,
    "pycharm": {
     "name": "#%% md\n"
    }
   }
  },
  {
   "cell_type": "code",
   "execution_count": null,
   "outputs": [],
   "source": [
    "df_plot = df_test.query(\"`trip` == 13201\").rolling(\"5min\").mean().reset_index()\n",
    "\n",
    "fig, ax = plt.subplots()\n",
    "sns.lineplot(data=df_plot, x=\"TS_or_Distance\", y=\"traction_instant_consumption\", label='True', ax=ax)\n",
    "sns.lineplot(data=df_plot, x=\"TS_or_Distance\", y=\"kW_pred\", label='Physical', linestyle='--', ax=ax)\n",
    "\n",
    "ax.set(\n",
    "    title=\"Physical model prediction on test set\",\n",
    "    xlabel=\"Time\",\n",
    "    ylabel=\"Traction instant consumption [kW]\",\n",
    ")\n",
    "fig.autofmt_xdate()\n",
    "ax.xaxis.set_major_formatter(mdates.DateFormatter('%H:%M'))"
   ],
   "metadata": {
    "collapsed": false,
    "pycharm": {
     "name": "#%%\n"
    }
   }
  },
  {
   "cell_type": "code",
   "execution_count": null,
   "outputs": [],
   "source": [
    "df['error_pred'] = model.predict(df[features])\n",
    "df['kW_pred_final'] = df['kW_pred'] - df['error_pred']\n",
    "\n",
    "\n",
    "df_test['error_pred'] = model.predict(df_test[features])\n",
    "df_test['kW_pred_final'] = df_test['kW_pred'] - df_test['error_pred']\n",
    "\n",
    "\n",
    "# df_test['kW_pred_final'] = model.predict(df_test[features])"
   ],
   "metadata": {
    "collapsed": false,
    "pycharm": {
     "name": "#%%\n"
    }
   }
  },
  {
   "cell_type": "code",
   "execution_count": null,
   "outputs": [],
   "source": [
    "from sklearn.metrics import r2_score\n",
    "\n",
    "print(r2_score(df['traction_instant_consumption'], df['kW_pred_final']))\n",
    "print(r2_score(df_test['traction_instant_consumption'], df_test['kW_pred_final']))"
   ],
   "metadata": {
    "collapsed": false,
    "pycharm": {
     "name": "#%%\n"
    }
   }
  },
  {
   "cell_type": "code",
   "execution_count": null,
   "outputs": [],
   "source": [
    "df_plot = df.query(\"`trip` == 7448\").rolling(\"2min\").mean().reset_index()\n",
    "\n",
    "fig, ax = plt.subplots()\n",
    "sns.lineplot(data=df_plot, x=\"TS_or_Distance\", y=\"traction_instant_consumption\", label='True')\n",
    "sns.lineplot(data=df_plot, x=\"TS_or_Distance\", y=\"kW_pred\", label='Physical')\n",
    "sns.lineplot(data=df_plot, x=\"TS_or_Distance\", y=\"kW_pred_final\", label='Compound', linestyle='--')\n",
    "\n",
    "ax.set(\n",
    "    title='Physical and compound model predictions on train set',\n",
    "    xlabel=\"Time\",\n",
    "    ylabel=\"Traction instant consumption [kW]\",\n",
    ")\n",
    "fig.autofmt_xdate()\n",
    "ax.xaxis.set_major_formatter(mdates.DateFormatter('%H:%M'))"
   ],
   "metadata": {
    "collapsed": false,
    "pycharm": {
     "name": "#%%\n"
    }
   }
  },
  {
   "cell_type": "code",
   "execution_count": null,
   "outputs": [],
   "source": [
    "df_plot = df_test.query(\"`trip` == 13201\").rolling(\"2min\").mean().reset_index()\n",
    "\n",
    "fig, ax = plt.subplots()\n",
    "sns.lineplot(data=df_plot, x=\"TS_or_Distance\", y=\"traction_instant_consumption\", label='True')\n",
    "sns.lineplot(data=df_plot, x=\"TS_or_Distance\", y=\"kW_pred\", label='Physical')\n",
    "sns.lineplot(data=df_plot, x=\"TS_or_Distance\", y=\"kW_pred_final\", label='Compound', linestyle='--')\n",
    "\n",
    "ax.set(\n",
    "    title='Physical and compound model predictions on test set',\n",
    "    xlabel=\"Time\",\n",
    "    ylabel=\"Traction instant consumption [kW]\",\n",
    ")\n",
    "fig.autofmt_xdate()\n",
    "ax.xaxis.set_major_formatter(mdates.DateFormatter('%H:%M'))"
   ],
   "metadata": {
    "collapsed": false,
    "pycharm": {
     "name": "#%%\n"
    }
   }
  },
  {
   "cell_type": "code",
   "execution_count": null,
   "outputs": [],
   "source": [
    "import shap\n",
    "\n",
    "explainer = shap.TreeExplainer(model)\n",
    "shap_values = explainer.shap_values(df_test[features])\n",
    "\n",
    "shap.summary_plot(shap_values, df_test[features])"
   ],
   "metadata": {
    "collapsed": false,
    "pycharm": {
     "name": "#%%\n"
    }
   }
  }
 ],
 "metadata": {
  "interpreter": {
   "hash": "cb3bacd3da981ce63a8a5983b4b098148970114f18ffe6079a03d70f7c4e3a8f"
  },
  "kernelspec": {
   "display_name": "Python 3.9.12 64-bit ('lira': conda)",
   "language": "python",
   "name": "python3"
  },
  "language_info": {
   "codemirror_mode": {
    "name": "ipython",
    "version": 3
   },
   "file_extension": ".py",
   "mimetype": "text/x-python",
   "name": "python",
   "nbconvert_exporter": "python",
   "pygments_lexer": "ipython3",
   "version": "3.8.6"
  },
  "orig_nbformat": 4
 },
 "nbformat": 4,
 "nbformat_minor": 2
}